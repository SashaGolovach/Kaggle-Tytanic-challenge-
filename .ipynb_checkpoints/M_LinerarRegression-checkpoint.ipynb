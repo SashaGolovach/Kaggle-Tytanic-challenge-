{
 "cells": [
  {
   "cell_type": "code",
   "execution_count": 217,
   "metadata": {},
   "outputs": [],
   "source": [
    "import random\n",
    "import numpy as np\n",
    "import pandas as pd\n",
    "from matplotlib import pyplot as plt\n",
    "\n",
    "\n",
    "class Model:\n",
    "    def __init__(self, n):\n",
    "        self.q = np.random.rand(n)\n",
    "        self.n = n\n",
    "    \n",
    "    def predict(self, X):\n",
    "        return 1 if np.dot(self.q, X) >= 1.5 else 0\n",
    "    \n",
    "    def train(self, X, Y, alpha, steps):\n",
    "        for s in range(1, steps):\n",
    "            #alpha /= s / 10\n",
    "            q = np.zeros(self.n)\n",
    "            for j in range(self.n):\n",
    "                sum = 0\n",
    "                for i in range(len(X)):\n",
    "                    sum += (self.predict(X[i]) - Y[i]) * X[i][j]\n",
    "                q[j] = sum * alpha / len(X)\n",
    "            self.q -= q\n",
    "            \n",
    "    def test(self, X, Y):\n",
    "        good = 0\n",
    "        for i in range(len(X)):\n",
    "             good += 1 if self.predict(X[i]) == Y[i] else 0\n",
    "        return good / len(X)"
   ]
  },
  {
   "cell_type": "code",
   "execution_count": 195,
   "metadata": {},
   "outputs": [],
   "source": [
    "m = Model(5)"
   ]
  },
  {
   "cell_type": "code",
   "execution_count": 196,
   "metadata": {},
   "outputs": [],
   "source": [
    "np.random.seed(0)\n",
    "df = pd.DataFrame(pd.read_csv('data.csv'))\n",
    "Y = df['Survived'].tolist()\n",
    "df = df.drop(columns = ['Survived', 'Unnamed: 0'])\n",
    "X = df.values.tolist()\n",
    "for i in range(len(X)):\n",
    "    X[i].append(1)\n",
    "res = []"
   ]
  },
  {
   "cell_type": "code",
   "execution_count": 220,
   "metadata": {
    "scrolled": true
   },
   "outputs": [
    {
     "data": {
      "image/png": "[encoded data removed]",
      "text/plain": [
       "<Figure size 432x288 with 1 Axes>"
      ]
     },
     "metadata": {},
     "output_type": "display_data"
    }
   ],
   "source": [
    "for epoch in range(40):\n",
    "    m.train(X[:600], Y[:600], 0.005, 2)\n",
    "    res.append(m.test(X[600:], Y[600:]))\n",
    "plt.plot(res)\n",
    "plt.show()"
   ]
  },
  {
   "cell_type": "code",
   "execution_count": 222,
   "metadata": {},
   "outputs": [
    {
     "data": {
      "text/plain": [
       "0.7807017543859649"
      ]
     },
     "execution_count": 222,
     "metadata": {},
     "output_type": "execute_result"
    }
   ],
   "source": [
    "max(res)"
   ]
  },
  {
   "cell_type": "code",
   "execution_count": null,
   "metadata": {},
   "outputs": [],
   "source": []
  }
 ],
 "metadata": {
  "kernelspec": {
   "display_name": "Python 3",
   "language": "python",
   "name": "python3"
  },
  "language_info": {
   "codemirror_mode": {
    "name": "ipython",
    "version": 3
   },
   "file_extension": ".py",
   "mimetype": "text/x-python",
   "name": "python",
   "nbconvert_exporter": "python",
   "pygments_lexer": "ipython3",
   "version": "3.6.5"
  }
 },
 "nbformat": 4,
 "nbformat_minor": 2
}
